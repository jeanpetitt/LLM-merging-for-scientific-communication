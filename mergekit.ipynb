{
 "cells": [
  {
   "cell_type": "code",
   "execution_count": 1,
   "metadata": {},
   "outputs": [
    {
     "name": "stdout",
     "output_type": "stream",
     "text": [
      "/nfs/home/jeanpetityvelosb/project/LLM-merging-for-scientific-communication/mergekit\n"
     ]
    },
    {
     "name": "stderr",
     "output_type": "stream",
     "text": [
      "/nfs/home/jeanpetityvelosb/miniconda3/envs/env/lib/python3.12/site-packages/IPython/core/magics/osm.py:417: UserWarning: This is now an optional IPython functionality, setting dhist requires you to install the `pickleshare` library.\n",
      "  self.shell.db['dhist'] = compress_dhist(dhist)[-100:]\n"
     ]
    }
   ],
   "source": [
    "%cd mergekit"
   ]
  },
  {
   "cell_type": "code",
   "execution_count": 2,
   "metadata": {},
   "outputs": [],
   "source": [
    "import yaml\n",
    "\n",
    "MODEL_NAME = \"phi-merge-arithmetic\"\n",
    "yaml_config = \"\"\"\n",
    "models:\n",
    "  - model: microsoft/Phi-3.5-mini-instruct\n",
    "    parameters:\n",
    "      weight: 1.0\n",
    "  - model: microsoft/Phi-3-mini-4k-instruct\n",
    "    parameters: \n",
    "      weight: 0.6\n",
    "  - model: microsoft/Phi-3-mini-128k-instruct\n",
    "    parameters: \n",
    "      weight: 0.2\n",
    "base_model: microsoft/Phi-3.5-mini-instruct\n",
    "merge_method: task_arithmetic\n",
    "dtype: float16\n",
    "\n",
    "\"\"\"\n",
    "\n",
    "# Save config as yaml file\n",
    "# with open('config.yaml', 'w', encoding=\"utf-8\") as f:\n",
    "#     f.write(yaml_config)"
   ]
  },
  {
   "cell_type": "code",
   "execution_count": 4,
   "metadata": {},
   "outputs": [
    {
     "name": "stderr",
     "output_type": "stream",
     "text": [
      "UsageError: Line magic function `%mergekit-yaml` not found.\n"
     ]
    }
   ],
   "source": [
    "%mergekit-yaml config.yaml merge --copy-tokenizer --allow-crimes --out-shard-size 1B --lazy-unpickle"
   ]
  },
  {
   "cell_type": "code",
   "execution_count": 3,
   "metadata": {},
   "outputs": [],
   "source": [
    "from huggingface_hub import ModelCard, ModelCardData\n",
    "from jinja2 import Template\n",
    "import yaml\n",
    "\n",
    "username = \"yvelos\"\n",
    "\n",
    "template_text = \"\"\"\n",
    "---\n",
    "license: apache-2.0\n",
    "tags:\n",
    "- merge\n",
    "- mergekit\n",
    "- lazymergekit\n",
    "{%- for model in models %}\n",
    "- {{ model }}\n",
    "{%- endfor %}\n",
    "---\n",
    "\n",
    "# {{ model_name }}\n",
    "\n",
    "{{ model_name }} is a merge of the following models using [mergekit](https://github.com/cg123/mergekit):\n",
    "\n",
    "{%- for model in models %}\n",
    "* [{{ model }}](https://huggingface.co/{{ model }})\n",
    "{%- endfor %}\n",
    "\n",
    "## 🧩 Configuration\n",
    "\n",
    "```yaml\n",
    "{{- yaml_config -}}\n",
    "```\n",
    "\"\"\"\n",
    "\n",
    "# Create a Jinja template object\n",
    "jinja_template = Template(template_text.strip())\n",
    "\n",
    "# Get list of models from config\n",
    "data = yaml.safe_load(yaml_config)\n",
    "if \"models\" in data:\n",
    "    models = [data[\"models\"][i][\"model\"] for i in range(len(data[\"models\"])) if \"parameters\" in data[\"models\"][i]]\n",
    "elif \"parameters\" in data:\n",
    "    models = [data[\"slices\"][0][\"sources\"][i][\"model\"] for i in range(len(data[\"slices\"][0][\"sources\"]))]\n",
    "elif \"slices\" in data:\n",
    "    models = [data[\"slices\"][i][\"sources\"][0][\"model\"] for i in range(len(data[\"slices\"]))]\n",
    "else:\n",
    "    raise Exception(\"No models or slices found in yaml config\")\n",
    "\n",
    "# Fill the template\n",
    "content = jinja_template.render(\n",
    "    model_name=MODEL_NAME,\n",
    "    models=models,\n",
    "    yaml_config=yaml_config,\n",
    "    username=username,\n",
    ")\n",
    "\n",
    "# Save the model card\n",
    "card = ModelCard(content)\n",
    "card.save('merge/README.md')"
   ]
  },
  {
   "cell_type": "code",
   "execution_count": 7,
   "metadata": {},
   "outputs": [
    {
     "data": {
      "application/vnd.jupyter.widget-view+json": {
       "model_id": "5832b87d715f4836a492a188bfeeaf3c",
       "version_major": 2,
       "version_minor": 0
      },
      "text/plain": [
       "model-00002-of-00009.safetensors:   0%|          | 0.00/982M [00:00<?, ?B/s]"
      ]
     },
     "metadata": {},
     "output_type": "display_data"
    },
    {
     "data": {
      "application/vnd.jupyter.widget-view+json": {
       "model_id": "91652c4f60d54951beb1b6aced507635",
       "version_major": 2,
       "version_minor": 0
      },
      "text/plain": [
       "model-00003-of-00009.safetensors:   0%|          | 0.00/956M [00:00<?, ?B/s]"
      ]
     },
     "metadata": {},
     "output_type": "display_data"
    },
    {
     "data": {
      "application/vnd.jupyter.widget-view+json": {
       "model_id": "ad97d0466c3b4071be1e9cea1df8f466",
       "version_major": 2,
       "version_minor": 0
      },
      "text/plain": [
       "model-00004-of-00009.safetensors:   0%|          | 0.00/906M [00:00<?, ?B/s]"
      ]
     },
     "metadata": {},
     "output_type": "display_data"
    },
    {
     "data": {
      "application/vnd.jupyter.widget-view+json": {
       "model_id": "78df5e15250744109d29215d30cc46a9",
       "version_major": 2,
       "version_minor": 0
      },
      "text/plain": [
       "Upload 10 LFS files:   0%|          | 0/10 [00:00<?, ?it/s]"
      ]
     },
     "metadata": {},
     "output_type": "display_data"
    },
    {
     "data": {
      "application/vnd.jupyter.widget-view+json": {
       "model_id": "f99489c1ece94ae3a6ef04703fe0ae8f",
       "version_major": 2,
       "version_minor": 0
      },
      "text/plain": [
       "model-00001-of-00009.safetensors:   0%|          | 0.00/998M [00:00<?, ?B/s]"
      ]
     },
     "metadata": {},
     "output_type": "display_data"
    },
    {
     "data": {
      "application/vnd.jupyter.widget-view+json": {
       "model_id": "3d29d7223548417d8cc090c2262edbd8",
       "version_major": 2,
       "version_minor": 0
      },
      "text/plain": [
       "model-00005-of-00009.safetensors:   0%|          | 0.00/906M [00:00<?, ?B/s]"
      ]
     },
     "metadata": {},
     "output_type": "display_data"
    },
    {
     "data": {
      "application/vnd.jupyter.widget-view+json": {
       "model_id": "4bd65e03d2b0461685cbd66e06bac5ea",
       "version_major": 2,
       "version_minor": 0
      },
      "text/plain": [
       "model-00006-of-00009.safetensors:   0%|          | 0.00/906M [00:00<?, ?B/s]"
      ]
     },
     "metadata": {},
     "output_type": "display_data"
    },
    {
     "data": {
      "application/vnd.jupyter.widget-view+json": {
       "model_id": "410a98ca2463467791205620f93f22e4",
       "version_major": 2,
       "version_minor": 0
      },
      "text/plain": [
       "model-00007-of-00009.safetensors:   0%|          | 0.00/906M [00:00<?, ?B/s]"
      ]
     },
     "metadata": {},
     "output_type": "display_data"
    },
    {
     "data": {
      "application/vnd.jupyter.widget-view+json": {
       "model_id": "29bc93f104f94ab09fed43abf7823368",
       "version_major": 2,
       "version_minor": 0
      },
      "text/plain": [
       "model-00008-of-00009.safetensors:   0%|          | 0.00/906M [00:00<?, ?B/s]"
      ]
     },
     "metadata": {},
     "output_type": "display_data"
    },
    {
     "data": {
      "application/vnd.jupyter.widget-view+json": {
       "model_id": "7a1310dae6094446a2b519360ef23e6d",
       "version_major": 2,
       "version_minor": 0
      },
      "text/plain": [
       "model-00009-of-00009.safetensors:   0%|          | 0.00/176M [00:00<?, ?B/s]"
      ]
     },
     "metadata": {},
     "output_type": "display_data"
    },
    {
     "data": {
      "application/vnd.jupyter.widget-view+json": {
       "model_id": "93901d53c0ed46348ada3ec75ccb93d1",
       "version_major": 2,
       "version_minor": 0
      },
      "text/plain": [
       "tokenizer.model:   0%|          | 0.00/500k [00:00<?, ?B/s]"
      ]
     },
     "metadata": {},
     "output_type": "display_data"
    },
    {
     "data": {
      "text/plain": [
       "CommitInfo(commit_url='https://huggingface.co/yvelos/phi-merge-arithmetic/commit/f25be3775f0297ef691c21d0f78130f02ca34d80', commit_message='Upload folder using huggingface_hub', commit_description='', oid='f25be3775f0297ef691c21d0f78130f02ca34d80', pr_url=None, repo_url=RepoUrl('https://huggingface.co/yvelos/phi-merge-arithmetic', endpoint='https://huggingface.co', repo_type='model', repo_id='yvelos/phi-merge-arithmetic'), pr_revision=None, pr_num=None)"
      ]
     },
     "execution_count": 7,
     "metadata": {},
     "output_type": "execute_result"
    }
   ],
   "source": [
    "from huggingface_hub import HfApi\n",
    "from dotenv import load_dotenv\n",
    "import os\n",
    "\n",
    "username = \"yvelos\"\n",
    "\n",
    "load_dotenv()\n",
    "\n",
    "# Defined in the secrets tab in Google Colab\n",
    "api = HfApi(token=os.environ['HUB_TOKEN'])\n",
    "\n",
    "api.create_repo(\n",
    "    repo_id=f\"{username}/{MODEL_NAME}\",\n",
    "    repo_type=\"model\"\n",
    ")\n",
    "api.upload_folder(\n",
    "    repo_id=f\"{username}/{MODEL_NAME}\",\n",
    "    folder_path=\"merge\",\n",
    ")"
   ]
  }
 ],
 "metadata": {
  "kernelspec": {
   "display_name": "env",
   "language": "python",
   "name": "python3"
  },
  "language_info": {
   "codemirror_mode": {
    "name": "ipython",
    "version": 3
   },
   "file_extension": ".py",
   "mimetype": "text/x-python",
   "name": "python",
   "nbconvert_exporter": "python",
   "pygments_lexer": "ipython3",
   "version": "3.12.8"
  }
 },
 "nbformat": 4,
 "nbformat_minor": 2
}
